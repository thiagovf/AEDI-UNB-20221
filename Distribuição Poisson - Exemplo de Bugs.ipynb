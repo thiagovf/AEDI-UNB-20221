{
 "cells": [
  {
   "cell_type": "markdown",
   "id": "ff29ca8d",
   "metadata": {},
   "source": [
    "# Distribuição de Poisson"
   ]
  },
  {
   "cell_type": "markdown",
   "id": "643f4347",
   "metadata": {},
   "source": [
    "## Exemplo do número de bugs"
   ]
  },
  {
   "cell_type": "markdown",
   "id": "2ab992c2",
   "metadata": {},
   "source": [
    "Suponhamos que existe um desenvolvedor seja capaz de resolver 6 bugs num sistema de produção do TSE por dia. O chefe da seção gostaria de saber o impacto se o mesmo desenvolvedor conseguísse resolver 10 bugs por dia. Para isso, ele solicitou uma distribuição, as probabilidades e informações adicionais."
   ]
  },
  {
   "cell_type": "markdown",
   "id": "05d0aeaf",
   "metadata": {},
   "source": [
    "\\begin{align*}\n",
    "\\begin{cases}\n",
    "   \\mathbb{P}_{K} (K = k) = \\frac{e^{-\\lambda} \\lambda^{k} }{ k! } \\quad com = \\{0,1,2, \\dots \\} \\\\\n",
    "    \\mathbb{E}(K) = \\lambda \\\\\n",
    "   \\mathbb{V}(K) = \\lambda  \n",
    "\\end{cases}\n",
    "\\end{align*}"
   ]
  },
  {
   "cell_type": "markdown",
   "id": "a86f4b5d",
   "metadata": {},
   "source": [
    "Quando uma variável aleatória apresenta Distribuição de Poisson, 𝜆 > 0, consideramos: \n",
    "- 𝜆 -> parâmetro que representa a taxa de ocorrência.  \n",
    "- k -> {0, 1, 2, . . . }  \n",
    "- e -> uma constante de valor aproximadamente 2.71828."
   ]
  },
  {
   "cell_type": "markdown",
   "id": "290e9556",
   "metadata": {},
   "source": [
    "O trecho de código abaixo serve para importar poisson do Python que possui algumas funções como *pmf* e *cdf* que servem para calcular as probabilidades relacionadas à distribuição Poisson."
   ]
  },
  {
   "cell_type": "code",
   "execution_count": 23,
   "id": "85e3154b",
   "metadata": {},
   "outputs": [],
   "source": [
    "from scipy.stats import poisson\n",
    "import matplotlib.pyplot as plt\n",
    "import seaborn as sns\n",
    "%matplotlib inline"
   ]
  },
  {
   "cell_type": "code",
   "execution_count": 19,
   "id": "06afb6a8",
   "metadata": {},
   "outputs": [],
   "source": [
    "poisson_dist = poisson.pmf(k=10, mu=6)"
   ]
  },
  {
   "cell_type": "code",
   "execution_count": 20,
   "id": "07b68218",
   "metadata": {},
   "outputs": [
    {
     "name": "stdout",
     "output_type": "stream",
     "text": [
      "4.0 %\n"
     ]
    }
   ],
   "source": [
    "poisson_dist = round(poisson_dist, 2) * 100\n",
    "print(poisson_dist, '%')"
   ]
  },
  {
   "cell_type": "markdown",
   "id": "349e2379",
   "metadata": {},
   "source": [
    "Portanto, a probabilidade teórica do desenvolvedor corrigir 10 bugs no próximo dia útil, considerando a média de λ = 6, é de aproximadamente 4%."
   ]
  },
  {
   "cell_type": "markdown",
   "id": "d88af5b1",
   "metadata": {},
   "source": [
    "Dessa forma, serão exibidos abaixo os gráficos referentes a um ano de correção de bugs considerando a capacidade máxima. Para isso, consideraremos que um mês tem 21 dias úteis e, portanto, 126 bugs resolvidos neste período, despresando nesse contexto as variações em dias úteis que ocorrem. "
   ]
  },
  {
   "cell_type": "markdown",
   "id": "e80c9203",
   "metadata": {},
   "source": [
    "Para gerar valores aleatórios, a função *rvs* foi utilizada abaixo. O tamanho de 12 é considerado para termos o intevarlo de um ano."
   ]
  },
  {
   "cell_type": "code",
   "execution_count": 27,
   "id": "df3b6c30",
   "metadata": {},
   "outputs": [],
   "source": [
    "dadosAleotorios = poisson.rvs(mu = 126, size = 12)"
   ]
  },
  {
   "cell_type": "code",
   "execution_count": 29,
   "id": "1c34c30d",
   "metadata": {},
   "outputs": [
    {
     "data": {
      "image/png": "[encoded data removed]",
      "text/plain": [
       "<Figure size 432x288 with 1 Axes>"
      ]
     },
     "metadata": {
      "needs_background": "light"
     },
     "output_type": "display_data"
    }
   ],
   "source": [
    "sns.histplot(dadosAleotorios)\n",
    "plt.ylabel('Probabilidade')\n",
    "plt.xlabel('Número de bugs resolvidos')\n",
    "plt.title('Distribuição em 12 meses')\n",
    "plt.grid(True)\n",
    "plt.show()"
   ]
  }
 ],
 "metadata": {
  "kernelspec": {
   "display_name": "Python 3 (ipykernel)",
   "language": "python",
   "name": "python3"
  },
  "language_info": {
   "codemirror_mode": {
    "name": "ipython",
    "version": 3
   },
   "file_extension": ".py",
   "mimetype": "text/x-python",
   "name": "python",
   "nbconvert_exporter": "python",
   "pygments_lexer": "ipython3",
   "version": "3.9.12"
  }
 },
 "nbformat": 4,
 "nbformat_minor": 5
}
