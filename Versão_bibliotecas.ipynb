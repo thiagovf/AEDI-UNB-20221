{
 "cells": [
  {
   "cell_type": "code",
   "execution_count": 3,
   "id": "b1f36666",
   "metadata": {},
   "outputs": [
    {
     "name": "stdout",
     "output_type": "stream",
     "text": [
      "pandas -> 1.4.2\n",
      "numpy -> 1.21.5\n",
      "scipy -> 1.7.3\n",
      "matplotlib -> 3.5.1\n"
     ]
    }
   ],
   "source": [
    "import pandas, numpy, scipy, matplotlib\n",
    "\n",
    "print('pandas -> %s' % pandas.__version__)\n",
    "print('numpy -> %s' % numpy.__version__)\n",
    "print('scipy -> %s' % scipy.__version__)\n",
    "print('matplotlib -> %s' % matplotlib.__version__)"
   ]
  },
  {
   "cell_type": "code",
   "execution_count": null,
   "id": "db1bd77a",
   "metadata": {},
   "outputs": [],
   "source": []
  }
 ],
 "metadata": {
  "kernelspec": {
   "display_name": "Python 3 (ipykernel)",
   "language": "python",
   "name": "python3"
  },
  "language_info": {
   "codemirror_mode": {
    "name": "ipython",
    "version": 3
   },
   "file_extension": ".py",
   "mimetype": "text/x-python",
   "name": "python",
   "nbconvert_exporter": "python",
   "pygments_lexer": "ipython3",
   "version": "3.9.12"
  }
 },
 "nbformat": 4,
 "nbformat_minor": 5
}
