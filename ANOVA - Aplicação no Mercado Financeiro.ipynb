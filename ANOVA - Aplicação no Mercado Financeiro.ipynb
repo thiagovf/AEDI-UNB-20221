{
 "cells": [
  {
   "cell_type": "markdown",
   "id": "9fbbf1bb",
   "metadata": {},
   "source": [
    "# ANOVA - Aplicação no Mercado Financeiro\n",
    "\n",
    "### Mestrado Profissional em Computação Aplicada - Universidade de Brasília\n",
    "\n",
    "**Aluno**: Thiago Viana Fernandes  \n",
    "**Curso**: AEDI 1/2022  \n",
    "Prof. João Gabriel de Moraes Souza  "
   ]
  },
  {
   "cell_type": "markdown",
   "id": "5f956e52",
   "metadata": {},
   "source": [
    "## Importando as Bibliotecas"
   ]
  },
  {
   "cell_type": "code",
   "execution_count": 1,
   "id": "619d1114",
   "metadata": {},
   "outputs": [],
   "source": [
    "import pandas as pd\n",
    "from pandas_datareader import data\n",
    "import numpy as np\n",
    "import math\n",
    "import matplotlib.pyplot as plt\n",
    "import plotly.express as px\n",
    "import seaborn as sns\n",
    "from scipy import stats\n",
    "from scipy import optimize\n",
    "from scipy.stats import levene, bartlett, f, norm, f_oneway"
   ]
  },
  {
   "cell_type": "markdown",
   "id": "9e84d6c4",
   "metadata": {},
   "source": [
    "## Construindo uma Base de Dados Financeiros"
   ]
  },
  {
   "cell_type": "markdown",
   "id": "a40e036c",
   "metadata": {},
   "source": [
    "A fim de ter maior dinamismo, busquei FIIs sugeridos na carteira de agosto de 2022 pelo BTG Pactual. Para fins de comparação, tentei usar o Índice de Fundos de Investimentos Imobiliários (IFIX). No entanto, estava sendo retornado inúmeros valores nulos o que prejudicaria as comparações. Dessa forma, optei por fazer comparação da carteira com o próprio IBOV mesmo. "
   ]
  },
  {
   "cell_type": "code",
   "execution_count": 2,
   "id": "8706a2d2",
   "metadata": {},
   "outputs": [
    {
     "data": {
      "text/plain": [
       "['BTCR11.SA',\n",
       " 'RBRR11.SA',\n",
       " 'KNCR11.SA',\n",
       " 'HGCR11.SA',\n",
       " 'VILG11.SA',\n",
       " 'BRCO11.SA',\n",
       " 'RBRP11.SA',\n",
       " 'BRCR11.SA',\n",
       " 'RCRB11.SA',\n",
       " 'HGRE11.SA',\n",
       " '^BVSP']"
      ]
     },
     "execution_count": 2,
     "metadata": {},
     "output_type": "execute_result"
    }
   ],
   "source": [
    "fiis = ['BTCR11.SA', \n",
    "       'RBRR11.SA', \n",
    "       'KNCR11.SA',\n",
    "       'HGCR11.SA', \n",
    "       'VILG11.SA', \n",
    "       'BRCO11.SA', \n",
    "       'RBRP11.SA', \n",
    "       'BRCR11.SA', \n",
    "       'RCRB11.SA',\n",
    "       'HGRE11.SA', \n",
    "       '^BVSP']\n",
    "fiis"
   ]
  },
  {
   "cell_type": "markdown",
   "id": "de3ee6e4",
   "metadata": {},
   "source": [
    "### Dados de 2022"
   ]
  },
  {
   "cell_type": "code",
   "execution_count": 3,
   "id": "a9c5dd23",
   "metadata": {},
   "outputs": [
    {
     "data": {
      "text/html": [
       "<div>\n",
       "<style scoped>\n",
       "    .dataframe tbody tr th:only-of-type {\n",
       "        vertical-align: middle;\n",
       "    }\n",
       "\n",
       "    .dataframe tbody tr th {\n",
       "        vertical-align: top;\n",
       "    }\n",
       "\n",
       "    .dataframe thead th {\n",
       "        text-align: right;\n",
       "    }\n",
       "</style>\n",
       "<table border=\"1\" class=\"dataframe\">\n",
       "  <thead>\n",
       "    <tr style=\"text-align: right;\">\n",
       "      <th></th>\n",
       "      <th>Date</th>\n",
       "      <th>BTCR11.SA</th>\n",
       "      <th>RBRR11.SA</th>\n",
       "      <th>KNCR11.SA</th>\n",
       "      <th>HGCR11.SA</th>\n",
       "      <th>VILG11.SA</th>\n",
       "      <th>BRCO11.SA</th>\n",
       "      <th>RBRP11.SA</th>\n",
       "      <th>BRCR11.SA</th>\n",
       "      <th>RCRB11.SA</th>\n",
       "      <th>HGRE11.SA</th>\n",
       "      <th>^BVSP</th>\n",
       "    </tr>\n",
       "  </thead>\n",
       "  <tbody>\n",
       "    <tr>\n",
       "      <th>0</th>\n",
       "      <td>2022-01-03</td>\n",
       "      <td>89.650002</td>\n",
       "      <td>99.000000</td>\n",
       "      <td>102.500000</td>\n",
       "      <td>105.699997</td>\n",
       "      <td>97.180000</td>\n",
       "      <td>101.540001</td>\n",
       "      <td>77.000000</td>\n",
       "      <td>72.599998</td>\n",
       "      <td>136.789993</td>\n",
       "      <td>133.919998</td>\n",
       "      <td>103922.000000</td>\n",
       "    </tr>\n",
       "    <tr>\n",
       "      <th>1</th>\n",
       "      <td>2022-01-04</td>\n",
       "      <td>90.230003</td>\n",
       "      <td>98.980003</td>\n",
       "      <td>101.570000</td>\n",
       "      <td>105.400002</td>\n",
       "      <td>98.300003</td>\n",
       "      <td>104.500000</td>\n",
       "      <td>73.769997</td>\n",
       "      <td>71.540001</td>\n",
       "      <td>134.210007</td>\n",
       "      <td>134.899994</td>\n",
       "      <td>103514.000000</td>\n",
       "    </tr>\n",
       "    <tr>\n",
       "      <th>2</th>\n",
       "      <td>2022-01-05</td>\n",
       "      <td>90.910004</td>\n",
       "      <td>98.500000</td>\n",
       "      <td>101.300003</td>\n",
       "      <td>104.790001</td>\n",
       "      <td>94.160004</td>\n",
       "      <td>99.010002</td>\n",
       "      <td>72.900002</td>\n",
       "      <td>70.699997</td>\n",
       "      <td>132.740005</td>\n",
       "      <td>134.100006</td>\n",
       "      <td>101006.000000</td>\n",
       "    </tr>\n",
       "    <tr>\n",
       "      <th>3</th>\n",
       "      <td>2022-01-06</td>\n",
       "      <td>92.000000</td>\n",
       "      <td>99.209999</td>\n",
       "      <td>101.160004</td>\n",
       "      <td>105.000000</td>\n",
       "      <td>96.550003</td>\n",
       "      <td>99.000000</td>\n",
       "      <td>71.930000</td>\n",
       "      <td>71.849998</td>\n",
       "      <td>130.210007</td>\n",
       "      <td>130.009995</td>\n",
       "      <td>101561.000000</td>\n",
       "    </tr>\n",
       "    <tr>\n",
       "      <th>4</th>\n",
       "      <td>2022-01-07</td>\n",
       "      <td>92.809998</td>\n",
       "      <td>99.040001</td>\n",
       "      <td>101.050003</td>\n",
       "      <td>105.470001</td>\n",
       "      <td>97.930000</td>\n",
       "      <td>99.800003</td>\n",
       "      <td>71.059998</td>\n",
       "      <td>71.400002</td>\n",
       "      <td>127.000000</td>\n",
       "      <td>132.750000</td>\n",
       "      <td>102719.000000</td>\n",
       "    </tr>\n",
       "    <tr>\n",
       "      <th>...</th>\n",
       "      <td>...</td>\n",
       "      <td>...</td>\n",
       "      <td>...</td>\n",
       "      <td>...</td>\n",
       "      <td>...</td>\n",
       "      <td>...</td>\n",
       "      <td>...</td>\n",
       "      <td>...</td>\n",
       "      <td>...</td>\n",
       "      <td>...</td>\n",
       "      <td>...</td>\n",
       "      <td>...</td>\n",
       "    </tr>\n",
       "    <tr>\n",
       "      <th>146</th>\n",
       "      <td>2022-08-02</td>\n",
       "      <td>95.500000</td>\n",
       "      <td>98.160004</td>\n",
       "      <td>101.120003</td>\n",
       "      <td>102.809998</td>\n",
       "      <td>93.510002</td>\n",
       "      <td>99.919998</td>\n",
       "      <td>53.990002</td>\n",
       "      <td>58.380001</td>\n",
       "      <td>121.529999</td>\n",
       "      <td>124.169998</td>\n",
       "      <td>103362.000000</td>\n",
       "    </tr>\n",
       "    <tr>\n",
       "      <th>147</th>\n",
       "      <td>2022-08-03</td>\n",
       "      <td>96.150002</td>\n",
       "      <td>98.209999</td>\n",
       "      <td>100.830002</td>\n",
       "      <td>102.970001</td>\n",
       "      <td>94.000000</td>\n",
       "      <td>99.360001</td>\n",
       "      <td>54.259998</td>\n",
       "      <td>57.560001</td>\n",
       "      <td>121.820000</td>\n",
       "      <td>123.879997</td>\n",
       "      <td>103775.000000</td>\n",
       "    </tr>\n",
       "    <tr>\n",
       "      <th>148</th>\n",
       "      <td>2022-08-04</td>\n",
       "      <td>97.000000</td>\n",
       "      <td>98.559998</td>\n",
       "      <td>101.750000</td>\n",
       "      <td>102.930000</td>\n",
       "      <td>94.349998</td>\n",
       "      <td>100.000000</td>\n",
       "      <td>54.000000</td>\n",
       "      <td>57.770000</td>\n",
       "      <td>122.550003</td>\n",
       "      <td>124.500000</td>\n",
       "      <td>105892.000000</td>\n",
       "    </tr>\n",
       "    <tr>\n",
       "      <th>149</th>\n",
       "      <td>2022-08-05</td>\n",
       "      <td>97.529999</td>\n",
       "      <td>98.209999</td>\n",
       "      <td>101.269997</td>\n",
       "      <td>103.059998</td>\n",
       "      <td>94.209999</td>\n",
       "      <td>99.760002</td>\n",
       "      <td>54.639999</td>\n",
       "      <td>58.000000</td>\n",
       "      <td>123.849998</td>\n",
       "      <td>126.290001</td>\n",
       "      <td>106472.000000</td>\n",
       "    </tr>\n",
       "    <tr>\n",
       "      <th>150</th>\n",
       "      <td>2022-08-08</td>\n",
       "      <td>95.900002</td>\n",
       "      <td>97.110001</td>\n",
       "      <td>101.709999</td>\n",
       "      <td>103.089996</td>\n",
       "      <td>94.589996</td>\n",
       "      <td>99.949997</td>\n",
       "      <td>54.849998</td>\n",
       "      <td>58.680000</td>\n",
       "      <td>124.480003</td>\n",
       "      <td>126.589996</td>\n",
       "      <td>108108.476562</td>\n",
       "    </tr>\n",
       "  </tbody>\n",
       "</table>\n",
       "<p>151 rows × 12 columns</p>\n",
       "</div>"
      ],
      "text/plain": [
       "          Date  BTCR11.SA  RBRR11.SA   KNCR11.SA   HGCR11.SA  VILG11.SA  \\\n",
       "0   2022-01-03  89.650002  99.000000  102.500000  105.699997  97.180000   \n",
       "1   2022-01-04  90.230003  98.980003  101.570000  105.400002  98.300003   \n",
       "2   2022-01-05  90.910004  98.500000  101.300003  104.790001  94.160004   \n",
       "3   2022-01-06  92.000000  99.209999  101.160004  105.000000  96.550003   \n",
       "4   2022-01-07  92.809998  99.040001  101.050003  105.470001  97.930000   \n",
       "..         ...        ...        ...         ...         ...        ...   \n",
       "146 2022-08-02  95.500000  98.160004  101.120003  102.809998  93.510002   \n",
       "147 2022-08-03  96.150002  98.209999  100.830002  102.970001  94.000000   \n",
       "148 2022-08-04  97.000000  98.559998  101.750000  102.930000  94.349998   \n",
       "149 2022-08-05  97.529999  98.209999  101.269997  103.059998  94.209999   \n",
       "150 2022-08-08  95.900002  97.110001  101.709999  103.089996  94.589996   \n",
       "\n",
       "      BRCO11.SA  RBRP11.SA  BRCR11.SA   RCRB11.SA   HGRE11.SA          ^BVSP  \n",
       "0    101.540001  77.000000  72.599998  136.789993  133.919998  103922.000000  \n",
       "1    104.500000  73.769997  71.540001  134.210007  134.899994  103514.000000  \n",
       "2     99.010002  72.900002  70.699997  132.740005  134.100006  101006.000000  \n",
       "3     99.000000  71.930000  71.849998  130.210007  130.009995  101561.000000  \n",
       "4     99.800003  71.059998  71.400002  127.000000  132.750000  102719.000000  \n",
       "..          ...        ...        ...         ...         ...            ...  \n",
       "146   99.919998  53.990002  58.380001  121.529999  124.169998  103362.000000  \n",
       "147   99.360001  54.259998  57.560001  121.820000  123.879997  103775.000000  \n",
       "148  100.000000  54.000000  57.770000  122.550003  124.500000  105892.000000  \n",
       "149   99.760002  54.639999  58.000000  123.849998  126.290001  106472.000000  \n",
       "150   99.949997  54.849998  58.680000  124.480003  126.589996  108108.476562  \n",
       "\n",
       "[151 rows x 12 columns]"
      ]
     },
     "execution_count": 3,
     "metadata": {},
     "output_type": "execute_result"
    }
   ],
   "source": [
    "fiis_df = pd.DataFrame()\n",
    "for fii in fiis:\n",
    "    fiis_df[fii] = data.DataReader(fii, data_source='yahoo', start='2022-01-01')['Close']\n",
    "\n",
    "fiis_df.reset_index(inplace=True)\n",
    "fiis_df"
   ]
  },
  {
   "cell_type": "markdown",
   "id": "ba8bdec2",
   "metadata": {},
   "source": [
    "###  Log-retorno "
   ]
  },
  {
   "cell_type": "code",
   "execution_count": 4,
   "id": "7f995ea5",
   "metadata": {},
   "outputs": [
    {
     "data": {
      "text/html": [
       "<div>\n",
       "<style scoped>\n",
       "    .dataframe tbody tr th:only-of-type {\n",
       "        vertical-align: middle;\n",
       "    }\n",
       "\n",
       "    .dataframe tbody tr th {\n",
       "        vertical-align: top;\n",
       "    }\n",
       "\n",
       "    .dataframe thead th {\n",
       "        text-align: right;\n",
       "    }\n",
       "</style>\n",
       "<table border=\"1\" class=\"dataframe\">\n",
       "  <thead>\n",
       "    <tr style=\"text-align: right;\">\n",
       "      <th></th>\n",
       "      <th>Date</th>\n",
       "      <th>CARTEIRA</th>\n",
       "      <th>^BVSP</th>\n",
       "    </tr>\n",
       "  </thead>\n",
       "  <tbody>\n",
       "    <tr>\n",
       "      <th>0</th>\n",
       "      <td>2022-01-03</td>\n",
       "      <td>0.000000</td>\n",
       "      <td>0.000000</td>\n",
       "    </tr>\n",
       "    <tr>\n",
       "      <th>1</th>\n",
       "      <td>2022-01-04</td>\n",
       "      <td>-0.003483</td>\n",
       "      <td>-0.003934</td>\n",
       "    </tr>\n",
       "    <tr>\n",
       "      <th>2</th>\n",
       "      <td>2022-01-05</td>\n",
       "      <td>-0.014345</td>\n",
       "      <td>-0.024527</td>\n",
       "    </tr>\n",
       "    <tr>\n",
       "      <th>3</th>\n",
       "      <td>2022-01-06</td>\n",
       "      <td>-0.000279</td>\n",
       "      <td>0.005480</td>\n",
       "    </tr>\n",
       "    <tr>\n",
       "      <th>4</th>\n",
       "      <td>2022-01-07</td>\n",
       "      <td>0.001011</td>\n",
       "      <td>0.011338</td>\n",
       "    </tr>\n",
       "    <tr>\n",
       "      <th>...</th>\n",
       "      <td>...</td>\n",
       "      <td>...</td>\n",
       "      <td>...</td>\n",
       "    </tr>\n",
       "    <tr>\n",
       "      <th>146</th>\n",
       "      <td>2022-08-02</td>\n",
       "      <td>0.009266</td>\n",
       "      <td>0.011061</td>\n",
       "    </tr>\n",
       "    <tr>\n",
       "      <th>147</th>\n",
       "      <td>2022-08-03</td>\n",
       "      <td>-0.000353</td>\n",
       "      <td>0.003988</td>\n",
       "    </tr>\n",
       "    <tr>\n",
       "      <th>148</th>\n",
       "      <td>2022-08-04</td>\n",
       "      <td>0.004100</td>\n",
       "      <td>0.020195</td>\n",
       "    </tr>\n",
       "    <tr>\n",
       "      <th>149</th>\n",
       "      <td>2022-08-05</td>\n",
       "      <td>0.003512</td>\n",
       "      <td>0.005462</td>\n",
       "    </tr>\n",
       "    <tr>\n",
       "      <th>150</th>\n",
       "      <td>2022-08-08</td>\n",
       "      <td>0.000538</td>\n",
       "      <td>0.015253</td>\n",
       "    </tr>\n",
       "  </tbody>\n",
       "</table>\n",
       "<p>151 rows × 3 columns</p>\n",
       "</div>"
      ],
      "text/plain": [
       "          Date  CARTEIRA     ^BVSP\n",
       "0   2022-01-03  0.000000  0.000000\n",
       "1   2022-01-04 -0.003483 -0.003934\n",
       "2   2022-01-05 -0.014345 -0.024527\n",
       "3   2022-01-06 -0.000279  0.005480\n",
       "4   2022-01-07  0.001011  0.011338\n",
       "..         ...       ...       ...\n",
       "146 2022-08-02  0.009266  0.011061\n",
       "147 2022-08-03 -0.000353  0.003988\n",
       "148 2022-08-04  0.004100  0.020195\n",
       "149 2022-08-05  0.003512  0.005462\n",
       "150 2022-08-08  0.000538  0.015253\n",
       "\n",
       "[151 rows x 3 columns]"
      ]
     },
     "execution_count": 4,
     "metadata": {},
     "output_type": "execute_result"
    }
   ],
   "source": [
    "numero_de_fiis = len(fiis) - 1 # número de FIIs diferentes da carteira, excluíndo-se o IBOV.\n",
    "data_negociacao_df = fiis_df.Date\n",
    "fiis_dia_df = fiis_df.iloc[:,1:numero_de_fiis + 2] # retorna todas as colunas com exceção da data.\n",
    "fiis_shift_dia_df = fiis_dia_df.copy().shift(1)\n",
    "log_retorno_df = np.log(fiis_dia_df / fiis_shift_dia_df)\n",
    "carteira_df = log_retorno_df.iloc[:,0:numero_de_fiis].sum(axis=\"columns\") / numero_de_fiis # calcula a média das colunas, com exceção da coluna \"Data\" e \"IFIX\"\n",
    "carteira_df.name = \"CARTEIRA\"\n",
    "ibov_df = log_retorno_df[\"^BVSP\"].fillna(0) # preenche todos os valores nulos com 0\n",
    "analise_df = pd.concat([data_negociacao_df, carteira_df, ibov_df], axis=1)\n",
    "analise_df"
   ]
  },
  {
   "cell_type": "markdown",
   "id": "91d448e2",
   "metadata": {},
   "source": [
    "### Visualização das Distribuições "
   ]
  },
  {
   "cell_type": "markdown",
   "id": "a457f0cd",
   "metadata": {},
   "source": [
    "#### Referente à carteira"
   ]
  },
  {
   "cell_type": "code",
   "execution_count": 5,
   "id": "7c62b74f",
   "metadata": {},
   "outputs": [
    {
     "data": {
      "text/plain": [
       "<matplotlib.collections.LineCollection at 0x7f996decc550>"
      ]
     },
     "execution_count": 5,
     "metadata": {},
     "output_type": "execute_result"
    },
    {
     "data": {
      "image/png": "[encoded data removed]",
      "text/plain": [
       "<Figure size 1008x432 with 1 Axes>"
      ]
     },
     "metadata": {
      "needs_background": "light"
     },
     "output_type": "display_data"
    }
   ],
   "source": [
    "desvio_padrao = analise_df[\"CARTEIRA\"].std()\n",
    "media = analise_df[\"CARTEIRA\"].mean()\n",
    "\n",
    "intervalo = norm.interval(alpha=0.95, loc=media, scale=desvio_padrao)\n",
    "ax = analise_df[\"CARTEIRA\"].plot(style = \".\")\n",
    "ax.figure.set_size_inches(14, 6)\n",
    "ax.hlines(y=media, xmin = 0, xmax = len(analise_df[\"CARTEIRA\"]), colors=\"black\", linestyles=\"dashed\")\n",
    "ax.hlines(y=intervalo[0], xmin = 0, xmax = len(analise_df[\"CARTEIRA\"]), colors=\"red\", linestyles=\"dashed\")\n",
    "ax.hlines(y=intervalo[1], xmin = 0, xmax = len(analise_df[\"CARTEIRA\"]), colors=\"red\", linestyles=\"dashed\")"
   ]
  },
  {
   "cell_type": "markdown",
   "id": "aaf3e637",
   "metadata": {},
   "source": [
    "#### Referente ao IBOV"
   ]
  },
  {
   "cell_type": "code",
   "execution_count": 8,
   "id": "c88f52eb",
   "metadata": {},
   "outputs": [
    {
     "data": {
      "text/plain": [
       "<matplotlib.collections.LineCollection at 0x7f996dbf70a0>"
      ]
     },
     "execution_count": 8,
     "metadata": {},
     "output_type": "execute_result"
    },
    {
     "data": {
      "image/png": "[encoded data removed]",
      "text/plain": [
       "<Figure size 1008x432 with 1 Axes>"
      ]
     },
     "metadata": {
      "needs_background": "light"
     },
     "output_type": "display_data"
    }
   ],
   "source": [
    "desvio_padrao = analise_df[\"^BVSP\"].std()\n",
    "media = analise_df[\"^BVSP\"].mean()\n",
    "\n",
    "intervalo = norm.interval(alpha=0.95, loc=media, scale=desvio_padrao)\n",
    "ax = analise_df[\"^BVSP\"].plot(style=\".\")\n",
    "ax.figure.set_size_inches(14, 6)\n",
    "ax.hlines(y=media, xmin=0, xmax=len(analise_df[\"^BVSP\"]), colors=\"black\", linestyles=\"dashed\")\n",
    "ax.hlines(y=intervalo[0], xmin=0, xmax=len(analise_df[\"^BVSP\"]), colors=\"red\", linestyles=\"dashed\")\n",
    "ax.hlines(y=intervalo[1], xmin=0, xmax=len(analise_df[\"^BVSP\"]), colors=\"red\", linestyles=\"dashed\")"
   ]
  },
  {
   "cell_type": "code",
   "execution_count": 11,
   "id": "8bd27b2f",
   "metadata": {},
   "outputs": [],
   "source": [
    "significancia = 0.05\n",
    "tamanho_amostra = 100\n",
    "\n",
    "amostra_1_carteira = analise_df[\"CARTEIRA\"].sample(n=tamanho_amostra, random_state=5)\n",
    "amostra_2_carteira = analise_df[\"CARTEIRA\"].sample(n=tamanho_amostra, random_state=4)\n",
    "amostra_3_carteira = analise_df[\"CARTEIRA\"].sample(n=tamanho_amostra, random_state=3)\n",
    "\n",
    "amostra_1_ibovespa = analise_df[\"^BVSP\"].sample(n=tamanho_amostra, random_state=5)\n",
    "amostra_2_ibovespa = analise_df[\"^BVSP\"].sample(n=tamanho_amostra, random_state=4)\n",
    "amostra_3_ibovespa = analise_df[\"^BVSP\"].sample(n=tamanho_amostra, random_state=3)"
   ]
  },
  {
   "cell_type": "markdown",
   "id": "960d191b",
   "metadata": {},
   "source": [
    "### Teste de Levene  \n",
    "  \n",
    "  \"Em estatística, o teste de Levene é uma estatística inferencial usada para avaliar a igualdade de variâncias de uma variável calculada para dois ou mais grupos. Alguns procedimentos estatísticos comuns presumem que as variâncias das populações das quais as diferentes amostras são extraídas são iguais.\" (Wikipedia)"
   ]
  },
  {
   "cell_type": "code",
   "execution_count": 15,
   "id": "63f0fedd",
   "metadata": {},
   "outputs": [
    {
     "name": "stdout",
     "output_type": "stream",
     "text": [
      "Estatística-teste: 0.12910871114803904\n",
      "P-valor: 0.8789277161379128\n",
      "Não há perturbação aleatória.\n"
     ]
    }
   ],
   "source": [
    "stat_teste, p_valor = levene(amostra_1_carteira, amostra_2_carteira, amostra_3_carteira)\n",
    "print(f\"Estatística-teste: {stat_teste}\")\n",
    "print(f\"P-valor: {p_valor}\")\n",
    "\n",
    "if p_valor <= significancia:\n",
    "    print(\"Há perturbação aleatória.\")\n",
    "else:\n",
    "    print(\"Não há perturbação aleatória.\")"
   ]
  },
  {
   "cell_type": "code",
   "execution_count": 16,
   "id": "1709ca4d",
   "metadata": {},
   "outputs": [
    {
     "name": "stdout",
     "output_type": "stream",
     "text": [
      "Estatística-teste: 0.37637497149633636\n",
      "P-valor: 0.6866718121199802\n",
      "Não há perturbação aleatória.\n"
     ]
    }
   ],
   "source": [
    "stat_teste, p_valor = levene(amostra_1_ibovespa, amostra_2_ibovespa, amostra_3_ibovespa)\n",
    "print(f\"Estatística-teste: {stat_teste}\")\n",
    "print(f\"P-valor: {p_valor}\")\n",
    "\n",
    "if p_valor <= significancia:\n",
    "    print(\"Há perturbação aleatória.\")\n",
    "else:\n",
    "    print(\"Não há perturbação aleatória.\")\n",
    "\n"
   ]
  },
  {
   "cell_type": "markdown",
   "id": "fac1b23b",
   "metadata": {},
   "source": [
    "Como resultado, não \"Não há perturbação aleatória\", podemos concluir que o “ruído” ou perturbação aleatória na relação entre as variáveis independentes e a variável dependente é o mesmo em todos os valores das variáveis independentes, para os casos da carteira e para os casos do ibov."
   ]
  },
  {
   "cell_type": "markdown",
   "id": "b7567b2c",
   "metadata": {},
   "source": [
    "### Teste de Bartlett"
   ]
  },
  {
   "cell_type": "code",
   "execution_count": 17,
   "id": "6ac1a5d0",
   "metadata": {},
   "outputs": [
    {
     "name": "stdout",
     "output_type": "stream",
     "text": [
      "Estatística-teste: 0.5792\n",
      "P-valor: 0.7486\n",
      "Não há perturbação aleatória.\n"
     ]
    }
   ],
   "source": [
    "stat_teste, p_valor = bartlett(amostra_1_carteira, amostra_2_carteira, amostra_3_carteira)\n",
    "print(f\"Estatística-teste: {stat_teste:0.4f}\")\n",
    "print(f\"P-valor: {p_valor:0.4f}\")\n",
    "\n",
    "if p_valor <= significancia:\n",
    "    print(\"Há perturbação aleatória.\")\n",
    "else:\n",
    "    print(\"Não há perturbação aleatória.\")"
   ]
  },
  {
   "cell_type": "code",
   "execution_count": 18,
   "id": "59307784",
   "metadata": {},
   "outputs": [
    {
     "name": "stdout",
     "output_type": "stream",
     "text": [
      "Estatística-teste: 0.4037\n",
      "P-valor: 0.8172\n",
      "Não há perturbação aleatória.\n"
     ]
    }
   ],
   "source": [
    "stat_teste, p_valor = bartlett(amostra_1_ibovespa, amostra_2_ibovespa, amostra_3_ibovespa)\n",
    "print(f\"Estatística-teste: {stat_teste:0.4f}\")\n",
    "print(f\"P-valor: {p_valor:0.4f}\")\n",
    "\n",
    "if p_valor <= significancia:\n",
    "    print(\"Há perturbação aleatória.\")\n",
    "else:\n",
    "    print(\"Não há perturbação aleatória.\")"
   ]
  },
  {
   "cell_type": "markdown",
   "id": "cf8eabb2",
   "metadata": {},
   "source": [
    "Como resultado, não \"Não há perturbação aleatória\", de forma semelhante ao Teste de Leneve, podemos concluir que a perturbação aleatória na relação entre as variáveis independentes e a variável dependente é o mesmo em todos os valores das variáveis independentes, para os casos da carteira e para os casos do ibov."
   ]
  },
  {
   "cell_type": "markdown",
   "id": "bb6dfb6d",
   "metadata": {},
   "source": [
    "## ANOVA"
   ]
  },
  {
   "cell_type": "markdown",
   "id": "1a21905d",
   "metadata": {},
   "source": [
    "Como visto em sala, sabemos que os erros possuem variância comum. Para detectar isso, realizaremos os testes de Levene e Bartlett. Considerando os seguintes pressupostos:\n",
    "- Normalidade;\n",
    "- Variâncias Iguais;\n",
    "- Independência.\n",
    "\n",
    "Onde:\n",
    "H0: μ1=μ2=μ3=...=μn\n",
    "\n",
    "H1: nem todas as médias de taxa de retorno são iguais."
   ]
  },
  {
   "cell_type": "code",
   "execution_count": 7,
   "id": "81a69bdd",
   "metadata": {},
   "outputs": [
    {
     "data": {
      "text/html": [
       "<div>\n",
       "<style scoped>\n",
       "    .dataframe tbody tr th:only-of-type {\n",
       "        vertical-align: middle;\n",
       "    }\n",
       "\n",
       "    .dataframe tbody tr th {\n",
       "        vertical-align: top;\n",
       "    }\n",
       "\n",
       "    .dataframe thead th {\n",
       "        text-align: right;\n",
       "    }\n",
       "</style>\n",
       "<table border=\"1\" class=\"dataframe\">\n",
       "  <thead>\n",
       "    <tr style=\"text-align: right;\">\n",
       "      <th></th>\n",
       "      <th>Date</th>\n",
       "      <th>Tipo</th>\n",
       "      <th>Taxa de Retorno</th>\n",
       "    </tr>\n",
       "  </thead>\n",
       "  <tbody>\n",
       "    <tr>\n",
       "      <th>0</th>\n",
       "      <td>2022-01-03</td>\n",
       "      <td>CARTEIRA</td>\n",
       "      <td>0.000000</td>\n",
       "    </tr>\n",
       "    <tr>\n",
       "      <th>1</th>\n",
       "      <td>2022-01-04</td>\n",
       "      <td>CARTEIRA</td>\n",
       "      <td>-0.003483</td>\n",
       "    </tr>\n",
       "    <tr>\n",
       "      <th>2</th>\n",
       "      <td>2022-01-05</td>\n",
       "      <td>CARTEIRA</td>\n",
       "      <td>-0.014345</td>\n",
       "    </tr>\n",
       "    <tr>\n",
       "      <th>3</th>\n",
       "      <td>2022-01-06</td>\n",
       "      <td>CARTEIRA</td>\n",
       "      <td>-0.000279</td>\n",
       "    </tr>\n",
       "    <tr>\n",
       "      <th>4</th>\n",
       "      <td>2022-01-07</td>\n",
       "      <td>CARTEIRA</td>\n",
       "      <td>0.001011</td>\n",
       "    </tr>\n",
       "    <tr>\n",
       "      <th>...</th>\n",
       "      <td>...</td>\n",
       "      <td>...</td>\n",
       "      <td>...</td>\n",
       "    </tr>\n",
       "    <tr>\n",
       "      <th>297</th>\n",
       "      <td>2022-08-02</td>\n",
       "      <td>^BVSP</td>\n",
       "      <td>0.011061</td>\n",
       "    </tr>\n",
       "    <tr>\n",
       "      <th>298</th>\n",
       "      <td>2022-08-03</td>\n",
       "      <td>^BVSP</td>\n",
       "      <td>0.003988</td>\n",
       "    </tr>\n",
       "    <tr>\n",
       "      <th>299</th>\n",
       "      <td>2022-08-04</td>\n",
       "      <td>^BVSP</td>\n",
       "      <td>0.020195</td>\n",
       "    </tr>\n",
       "    <tr>\n",
       "      <th>300</th>\n",
       "      <td>2022-08-05</td>\n",
       "      <td>^BVSP</td>\n",
       "      <td>0.005462</td>\n",
       "    </tr>\n",
       "    <tr>\n",
       "      <th>301</th>\n",
       "      <td>2022-08-08</td>\n",
       "      <td>^BVSP</td>\n",
       "      <td>0.015253</td>\n",
       "    </tr>\n",
       "  </tbody>\n",
       "</table>\n",
       "<p>302 rows × 3 columns</p>\n",
       "</div>"
      ],
      "text/plain": [
       "          Date      Tipo  Taxa de Retorno\n",
       "0   2022-01-03  CARTEIRA         0.000000\n",
       "1   2022-01-04  CARTEIRA        -0.003483\n",
       "2   2022-01-05  CARTEIRA        -0.014345\n",
       "3   2022-01-06  CARTEIRA        -0.000279\n",
       "4   2022-01-07  CARTEIRA         0.001011\n",
       "..         ...       ...              ...\n",
       "297 2022-08-02     ^BVSP         0.011061\n",
       "298 2022-08-03     ^BVSP         0.003988\n",
       "299 2022-08-04     ^BVSP         0.020195\n",
       "300 2022-08-05     ^BVSP         0.005462\n",
       "301 2022-08-08     ^BVSP         0.015253\n",
       "\n",
       "[302 rows x 3 columns]"
      ]
     },
     "execution_count": 7,
     "metadata": {},
     "output_type": "execute_result"
    }
   ],
   "source": [
    "analise_df_melted = pd.melt(analise_df, id_vars=[\"Date\"], value_vars=[\"CARTEIRA\", \"^BVSP\"])\n",
    "analise_df_melted.columns = [\"Date\", \"Tipo\", \"Taxa de Retorno\"]\n",
    "analise_df_melted"
   ]
  },
  {
   "cell_type": "code",
   "execution_count": 20,
   "id": "16d05da6",
   "metadata": {},
   "outputs": [
    {
     "data": {
      "text/html": [
       "<div>\n",
       "<style scoped>\n",
       "    .dataframe tbody tr th:only-of-type {\n",
       "        vertical-align: middle;\n",
       "    }\n",
       "\n",
       "    .dataframe tbody tr th {\n",
       "        vertical-align: top;\n",
       "    }\n",
       "\n",
       "    .dataframe thead th {\n",
       "        text-align: right;\n",
       "    }\n",
       "</style>\n",
       "<table border=\"1\" class=\"dataframe\">\n",
       "  <thead>\n",
       "    <tr style=\"text-align: right;\">\n",
       "      <th></th>\n",
       "      <th>SS</th>\n",
       "      <th>df</th>\n",
       "      <th>MS</th>\n",
       "      <th>F</th>\n",
       "      <th>P-value</th>\n",
       "      <th>F crit</th>\n",
       "    </tr>\n",
       "    <tr>\n",
       "      <th>Fonte da Variação</th>\n",
       "      <th></th>\n",
       "      <th></th>\n",
       "      <th></th>\n",
       "      <th></th>\n",
       "      <th></th>\n",
       "      <th></th>\n",
       "    </tr>\n",
       "  </thead>\n",
       "  <tbody>\n",
       "    <tr>\n",
       "      <th>Entre grupos</th>\n",
       "      <td>0.000042</td>\n",
       "      <td>1</td>\n",
       "      <td>0.000042</td>\n",
       "      <td>0.535483</td>\n",
       "      <td>0.464882</td>\n",
       "      <td>5.074698</td>\n",
       "    </tr>\n",
       "    <tr>\n",
       "      <th>Dentro dos grupos</th>\n",
       "      <td>0.02348</td>\n",
       "      <td>300</td>\n",
       "      <td>0.000078</td>\n",
       "      <td></td>\n",
       "      <td></td>\n",
       "      <td></td>\n",
       "    </tr>\n",
       "    <tr>\n",
       "      <th>Total</th>\n",
       "      <td>0.023522</td>\n",
       "      <td>301</td>\n",
       "      <td>0.000078</td>\n",
       "      <td></td>\n",
       "      <td></td>\n",
       "      <td></td>\n",
       "    </tr>\n",
       "  </tbody>\n",
       "</table>\n",
       "</div>"
      ],
      "text/plain": [
       "                         SS   df        MS         F   P-value    F crit\n",
       "Fonte da Variação                                                       \n",
       "Entre grupos       0.000042    1  0.000042  0.535483  0.464882  5.074698\n",
       "Dentro dos grupos   0.02348  300  0.000078                              \n",
       "Total              0.023522  301  0.000078                              "
      ]
     },
     "execution_count": 20,
     "metadata": {},
     "output_type": "execute_result"
    }
   ],
   "source": [
    "# Create ANOVA backbone table\n",
    "data = [\n",
    "    [\"Entre grupos\", \"\", \"\", \"\", \"\", \"\", \"\"], \n",
    "    [\"Dentro dos grupos\", \"\", \"\", \"\", \"\", \"\", \"\"], \n",
    "    [\"Total\", \"\", \"\", \"\", \"\", \"\", \"\"]\n",
    "]\n",
    "anova_table = pd.DataFrame(data, columns = [\"Fonte da Variação\", \"SS\", \"df\", \"MS\", \"F\", \"P-value\", \"F crit\"])\n",
    "anova_table.set_index(\"Fonte da Variação\", inplace = True)\n",
    "\n",
    "# calculate SSTR and update anova table\n",
    "x_bar = analise_df_melted[\"Taxa de Retorno\"].mean()\n",
    "SSTR = analise_df_melted.groupby(\"Tipo\").count() * (analise_df_melted.groupby(\"Tipo\").mean() - x_bar)**2\n",
    "anova_table[\"SS\"][\"Entre grupos\"] = SSTR[\"Taxa de Retorno\"].sum()\n",
    "\n",
    "# calculate SSE and update anova table\n",
    "SSE = (analise_df_melted.groupby(\"Tipo\").count() - 1) * analise_df_melted.groupby(\"Tipo\").std()**2\n",
    "anova_table[\"SS\"][\"Dentro dos grupos\"] = SSE[\"Taxa de Retorno\"].sum()\n",
    "\n",
    "# calculate SSTR and update anova table\n",
    "SSTR = SSTR[\"Taxa de Retorno\"].sum() + SSE[\"Taxa de Retorno\"].sum()\n",
    "anova_table[\"SS\"][\"Total\"] = SSTR\n",
    "\n",
    "# update degree of freedom\n",
    "anova_table[\"df\"][\"Entre grupos\"] = analise_df_melted[\"Tipo\"].nunique() - 1\n",
    "anova_table[\"df\"][\"Dentro dos grupos\"] = analise_df_melted.shape[0] - analise_df_melted[\"Tipo\"].nunique()\n",
    "anova_table[\"df\"][\"Total\"] = analise_df_melted.shape[0] - 1\n",
    "\n",
    "# calculate MS\n",
    "anova_table[\"MS\"] = anova_table[\"SS\"] / anova_table[\"df\"]\n",
    "\n",
    "# calculate F\n",
    "F = anova_table[\"MS\"][\"Entre grupos\"] / anova_table[\"MS\"][\"Dentro dos grupos\"]\n",
    "anova_table[\"F\"][\"Entre grupos\"] = F\n",
    "\n",
    "# p-value\n",
    "anova_table[\"P-value\"][\"Entre grupos\"] = 1 - f.cdf(F, anova_table[\"df\"][\"Entre grupos\"], anova_table[\"df\"][\"Dentro dos grupos\"])\n",
    "\n",
    "# F critical\n",
    "alpha = 0.05\n",
    "# possible types \"right-tailed, left-tailed, two-tailed\"\n",
    "tail_hypothesis_type = \"two-tailed\"\n",
    "if tail_hypothesis_type == \"two-tailed\":\n",
    "    alpha /= 2\n",
    "anova_table[\"F crit\"][\"Entre grupos\"] = f.ppf(1-alpha, anova_table[\"df\"][\"Entre grupos\"], anova_table[\"df\"][\"Dentro dos grupos\"])\n",
    "\n",
    "# Final ANOVA Table\n",
    "anova_table"
   ]
  },
  {
   "cell_type": "code",
   "execution_count": 21,
   "id": "0bd3d23a",
   "metadata": {},
   "outputs": [
    {
     "name": "stdout",
     "output_type": "stream",
     "text": [
      "Não há perturbação aleatória.\n"
     ]
    }
   ],
   "source": [
    "stat_teste, p_valor = f_oneway(analise_df[\"CARTEIRA\"], analise_df[\"^BVSP\"])\n",
    "\n",
    "if p_valor <= significancia:\n",
    "    print(\"Há perturbação aleatória.\")\n",
    "else:\n",
    "    print(\"Não há perturbação aleatória.\")\n",
    "\n"
   ]
  },
  {
   "cell_type": "markdown",
   "id": "ed411b3c",
   "metadata": {},
   "source": [
    "## Conclusão  \n",
    "  \n",
    "  Não podemos rejeitar a hipótese de que as médias das taxas de retorno da Carteira são iguais às médias das taxas de retorno do índice IBOVESPA. "
   ]
  }
 ],
 "metadata": {
  "kernelspec": {
   "display_name": "Python 3 (ipykernel)",
   "language": "python",
   "name": "python3"
  },
  "language_info": {
   "codemirror_mode": {
    "name": "ipython",
    "version": 3
   },
   "file_extension": ".py",
   "mimetype": "text/x-python",
   "name": "python",
   "nbconvert_exporter": "python",
   "pygments_lexer": "ipython3",
   "version": "3.9.12"
  }
 },
 "nbformat": 4,
 "nbformat_minor": 5
}
