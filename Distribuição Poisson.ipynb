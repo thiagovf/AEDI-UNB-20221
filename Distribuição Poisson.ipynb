{
 "cells": [
  {
   "cell_type": "markdown",
   "id": "ff29ca8d",
   "metadata": {},
   "source": [
    "# Distribuição de Poisson"
   ]
  },
  {
   "cell_type": "markdown",
   "id": "643f4347",
   "metadata": {},
   "source": [
    "## Exemplo dado adulterado"
   ]
  },
  {
   "cell_type": "markdown",
   "id": "2ab992c2",
   "metadata": {},
   "source": [
    "Suponhamos que existe um dado alterado que, a cada 24 arremessos, saiam 14 vezes o número 6. O cacino quer que simulemos uma distribuição e apresentemos a eles a probabilidades e informações adicionais caso o dado fosse alterado para sair 20 vezes o número 6 a cada 24 arremessos."
   ]
  },
  {
   "cell_type": "markdown",
   "id": "05d0aeaf",
   "metadata": {},
   "source": [
    "\\begin{align*}\n",
    "\\begin{cases}\n",
    "   \\mathbb{P}_{K} (K = k) = \\frac{e^{-\\lambda} \\lambda^{k} }{ k! } \\quad com = \\{0,1,2, \\dots \\} \\\\\n",
    "    \\mathbb{E}(K) = \\lambda \\\\\n",
    "   \\mathbb{V}(K) = \\lambda  \n",
    "\\end{cases}\n",
    "\\end{align*}"
   ]
  },
  {
   "cell_type": "markdown",
   "id": "a86f4b5d",
   "metadata": {},
   "source": [
    "Quando uma variável aleatória apresenta Distribuição de Poisson, 𝜆 > 0, consideramos: \n",
    "- 𝜆 -> parâmetro que representa a taxa de ocorrência.  \n",
    "- k -> {0, 1, 2, . . . }  \n",
    "- e -> uma constante de valor aproximadamente 2.71828."
   ]
  },
  {
   "cell_type": "markdown",
   "id": "290e9556",
   "metadata": {},
   "source": [
    "Trecho de código abaixo serve para importar poisson do Python que possui algumas funções como *pmf* e *cdf* que servem para calcular as probabilidades relacionadas à distribuição Poisson."
   ]
  },
  {
   "cell_type": "code",
   "execution_count": 10,
   "id": "85e3154b",
   "metadata": {},
   "outputs": [],
   "source": [
    "from scipy.stats import poisson"
   ]
  },
  {
   "cell_type": "code",
   "execution_count": 24,
   "id": "06afb6a8",
   "metadata": {},
   "outputs": [],
   "source": [
    "poisson_dist = poisson.pmf(k=20, mu=14)"
   ]
  },
  {
   "cell_type": "code",
   "execution_count": 25,
   "id": "07b68218",
   "metadata": {},
   "outputs": [
    {
     "data": {
      "text/plain": [
       "3.0"
      ]
     },
     "execution_count": 25,
     "metadata": {},
     "output_type": "execute_result"
    }
   ],
   "source": [
    "poisson_dist = round(poisson_dist, 2) * 100\n",
    "poisson_dist"
   ]
  },
  {
   "cell_type": "markdown",
   "id": "349e2379",
   "metadata": {},
   "source": [
    "Portanto, a probabilidade teórica do dado viciado e alterado passar a resultar em 20 vezes o número 6 a cada 24 arremessos é de aproximadamente 3%."
   ]
  },
  {
   "cell_type": "code",
   "execution_count": null,
   "id": "d0fca5da",
   "metadata": {},
   "outputs": [],
   "source": []
  }
 ],
 "metadata": {
  "kernelspec": {
   "display_name": "Python 3 (ipykernel)",
   "language": "python",
   "name": "python3"
  },
  "language_info": {
   "codemirror_mode": {
    "name": "ipython",
    "version": 3
   },
   "file_extension": ".py",
   "mimetype": "text/x-python",
   "name": "python",
   "nbconvert_exporter": "python",
   "pygments_lexer": "ipython3",
   "version": "3.9.12"
  }
 },
 "nbformat": 4,
 "nbformat_minor": 5
}
