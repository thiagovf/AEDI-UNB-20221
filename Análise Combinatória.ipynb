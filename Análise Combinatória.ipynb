{
 "cells": [
  {
   "cell_type": "markdown",
   "metadata": {},
   "source": [
    "# Análise Combinatória"
   ]
  },
  {
   "cell_type": "markdown",
   "metadata": {},
   "source": [
    "## Importando biblioteca math"
   ]
  },
  {
   "cell_type": "markdown",
   "metadata": {},
   "source": [
    "A biblioteca *math* só passou a possuir o método *comb* a partir do **Python 3.8**. Portanto, para funcionar, é preciso que o código esteja sendo executado nessa versão. Do contrário, irá ocorrer o erro **AttributeError: 'module' object has no attribute 'comb'**."
   ]
  },
  {
   "cell_type": "code",
   "execution_count": 1,
   "metadata": {},
   "outputs": [],
   "source": [
    "import math as mt"
   ]
  },
  {
   "cell_type": "markdown",
   "metadata": {},
   "source": [
    "## Exemplo do boliche"
   ]
  },
  {
   "cell_type": "markdown",
   "metadata": {},
   "source": [
    "Imagine que em um campo de boliche contém 5 bolas pretas e 6 bolas brancas, e a maquina de retorno de bolas apresenta aleatoriamente 2 bolas por vez, qual é a probabilidade de que uma bola sai branca e a outra preta?"
   ]
  },
  {
   "cell_type": "code",
   "execution_count": 2,
   "metadata": {
    "scrolled": true
   },
   "outputs": [
    {
     "name": "stdout",
     "output_type": "stream",
     "text": [
      "Espaço Amostral = 55\n"
     ]
    }
   ],
   "source": [
    "n = 11  #número total de bolas\n",
    "r = 2   #número selecionado de bolas\n",
    "\n",
    "EA = mt.comb(n, r)\n",
    "print(\"Espaço Amostral =\", EA)"
   ]
  },
  {
   "cell_type": "markdown",
   "metadata": {},
   "source": [
    "No caso acima, Espaço Amostral é a combinação de 2 em 2 dos 11 elementos que compõem o universo. O cálculo acima equivale a seguinte fórmula de combinação: **n!/(n-r)!*r!**"
   ]
  },
  {
   "cell_type": "markdown",
   "metadata": {},
   "source": [
    "### Valores do epaço amostral"
   ]
  },
  {
   "cell_type": "markdown",
   "metadata": {},
   "source": [
    "Para exemplificar as possíveis combinações, foi identificada cada bola pela numeração."
   ]
  },
  {
   "cell_type": "code",
   "execution_count": 8,
   "metadata": {},
   "outputs": [
    {
     "name": "stdout",
     "output_type": "stream",
     "text": [
      "| 1(1,2) | 2(1,3) | 3(1,4) | 4(1,5) | 5(1,6) | 6(1,7) | 7(1,8) | 8(1,9) | 9(1,10) | 10(1,11) | 11(2,3) | 12(2,4) | 13(2,5) | 14(2,6) | 15(2,7) | 16(2,8) | 17(2,9) | 18(2,10) | 19(2,11) | 20(3,4) | 21(3,5) | 22(3,6) | 23(3,7) | 24(3,8) | 25(3,9) | 26(3,10) | 27(3,11) | 28(4,5) | 29(4,6) | 30(4,7) | 31(4,8) | 32(4,9) | 33(4,10) | 34(4,11) | 35(5,6) | 36(5,7) | 37(5,8) | 38(5,9) | 39(5,10) | 40(5,11) | 41(6,7) | 42(6,8) | 43(6,9) | 44(6,10) | 45(6,11) | 46(7,8) | 47(7,9) | 48(7,10) | 49(7,11) | 50(8,9) | 51(8,10) | 52(8,11) | 53(9,10) | 54(9,11) | 55(10,11) | \n"
     ]
    }
   ],
   "source": [
    "contador = 0;\n",
    "strConcatenada = '| '\n",
    "for x in range(1, 12): \n",
    "    for y in range(x, 12): \n",
    "        if (x != y) :\n",
    "            contador = contador + 1;\n",
    "            strConcatenada = strConcatenada + str(contador) + \"(\" + str(x) + \",\" + str(y) + \") | \"\n",
    "print(concatenador)"
   ]
  },
  {
   "cell_type": "markdown",
   "metadata": {},
   "source": [
    "### Selecionar as bolas"
   ]
  },
  {
   "cell_type": "code",
   "execution_count": 9,
   "metadata": {},
   "outputs": [
    {
     "name": "stdout",
     "output_type": "stream",
     "text": [
      "Chance de selcionar bolas brancas = 6\n",
      "Chance de selcionar bolas pretas = 5\n"
     ]
    }
   ],
   "source": [
    "brancas = mt.comb(6,1)\n",
    "pretas = mt.comb(5,1)\n",
    "\n",
    "print(\"Chance de selcionar bolas brancas =\", brancas)\n",
    "print(\"Chance de selcionar bolas pretas =\", pretas)"
   ]
  },
  {
   "cell_type": "markdown",
   "metadata": {},
   "source": [
    "### Probabilidade de selecionar uma bola de cada cor"
   ]
  },
  {
   "cell_type": "code",
   "execution_count": 13,
   "metadata": {},
   "outputs": [
    {
     "name": "stdout",
     "output_type": "stream",
     "text": [
      "Probabilidade =  54.55 %\n"
     ]
    }
   ],
   "source": [
    "prob = (mt.comb(6,1) * mt.comb(5,1)) / mt.comb(11, 2)\n",
    "prob = prob * 100\n",
    "prob = round(prob, 2)\n",
    "\n",
    "print(\"Probabilidade = \", prob, \"%\")"
   ]
  },
  {
   "cell_type": "markdown",
   "metadata": {},
   "source": [
    "A fórmula de probabilidade é a seguinte: **(*'combinação de bolas brancas'* * *'combinação de bolas brancas'*) / *'combinação das 11 bolas 2 a 2'***. Chegando ao resultado de **54.55%** de chance de acontecer de sair uma bola de cada cor ao se retirar duas bolas das 11."
   ]
  },
  {
   "cell_type": "code",
   "execution_count": null,
   "metadata": {},
   "outputs": [],
   "source": []
  }
 ],
 "metadata": {
  "kernelspec": {
   "display_name": "Python 3 (ipykernel)",
   "language": "python",
   "name": "python3"
  },
  "language_info": {
   "codemirror_mode": {
    "name": "ipython",
    "version": 3
   },
   "file_extension": ".py",
   "mimetype": "text/x-python",
   "name": "python",
   "nbconvert_exporter": "python",
   "pygments_lexer": "ipython3",
   "version": "3.9.12"
  }
 },
 "nbformat": 4,
 "nbformat_minor": 2
}
