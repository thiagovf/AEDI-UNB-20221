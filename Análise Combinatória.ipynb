{
 "cells": [
  {
   "cell_type": "markdown",
   "metadata": {},
   "source": [
    "# Análise Combinatória"
   ]
  },
  {
   "cell_type": "markdown",
   "metadata": {},
   "source": [
    "## Importando biblioteca math"
   ]
  },
  {
   "cell_type": "markdown",
   "metadata": {},
   "source": [
    "A biblioteca *math* só passou a possuir o método *comb* a partir do **Python 3.8**. Portanto, para funcionar, é preciso que o código esteja sendo executado nessa versão. Do contrário, irá ocorrer o erro **AttributeError: 'module' object has no attribute 'comb'**."
   ]
  },
  {
   "cell_type": "code",
   "execution_count": 1,
   "metadata": {},
   "outputs": [],
   "source": [
    "import math as mt"
   ]
  },
  {
   "cell_type": "code",
   "execution_count": 2,
   "metadata": {
    "scrolled": true
   },
   "outputs": [
    {
     "name": "stdout",
     "output_type": "stream",
     "text": [
      "Espaço Amostral = 55\n"
     ]
    }
   ],
   "source": [
    "# elaborando os dados iniciais\n",
    "\n",
    "n = 11\n",
    "r = 2\n",
    "\n",
    "# encontrando o espaço amostral\n",
    "EA = mt.comb(n, r)\n",
    "print(\"Espaço Amostral =\", EA)"
   ]
  },
  {
   "cell_type": "markdown",
   "metadata": {},
   "source": [
    "No caso acima, Espaço Amostral é a combinação de 2 em 2 dos 11 elementos que compõem o universo."
   ]
  },
  {
   "cell_type": "markdown",
   "metadata": {},
   "source": [
    "### Valores do epaço amostral"
   ]
  },
  {
   "cell_type": "code",
   "execution_count": 1,
   "metadata": {},
   "outputs": [
    {
     "name": "stdout",
     "output_type": "stream",
     "text": [
      "1 (1,2)\n",
      "2 (1,3)\n",
      "3 (1,4)\n",
      "4 (1,5)\n",
      "5 (1,6)\n",
      "6 (1,7)\n",
      "7 (1,8)\n",
      "8 (1,9)\n",
      "9 (1,10)\n",
      "10 (1,11)\n",
      "11 (2,3)\n",
      "12 (2,4)\n",
      "13 (2,5)\n",
      "14 (2,6)\n",
      "15 (2,7)\n",
      "16 (2,8)\n",
      "17 (2,9)\n",
      "18 (2,10)\n",
      "19 (2,11)\n",
      "20 (3,4)\n",
      "21 (3,5)\n",
      "22 (3,6)\n",
      "23 (3,7)\n",
      "24 (3,8)\n",
      "25 (3,9)\n",
      "26 (3,10)\n",
      "27 (3,11)\n",
      "28 (4,5)\n",
      "29 (4,6)\n",
      "30 (4,7)\n",
      "31 (4,8)\n",
      "32 (4,9)\n",
      "33 (4,10)\n",
      "34 (4,11)\n",
      "35 (5,6)\n",
      "36 (5,7)\n",
      "37 (5,8)\n",
      "38 (5,9)\n",
      "39 (5,10)\n",
      "40 (5,11)\n",
      "41 (6,7)\n",
      "42 (6,8)\n",
      "43 (6,9)\n",
      "44 (6,10)\n",
      "45 (6,11)\n",
      "46 (7,8)\n",
      "47 (7,9)\n",
      "48 (7,10)\n",
      "49 (7,11)\n",
      "50 (8,9)\n",
      "51 (8,10)\n",
      "52 (8,11)\n",
      "53 (9,10)\n",
      "54 (9,11)\n",
      "55 (10,11)\n"
     ]
    }
   ],
   "source": [
    "contador = 0;\n",
    "for x in range(1, 12): \n",
    "    for y in range(x, 12): \n",
    "        if (x != y) :\n",
    "            contador = contador + 1;\n",
    "            print (contador, \"(\" + str(x) + \",\" + str(y) + \")\")"
   ]
  },
  {
   "cell_type": "code",
   "execution_count": null,
   "metadata": {},
   "outputs": [],
   "source": []
  }
 ],
 "metadata": {
  "kernelspec": {
   "display_name": "Python 3 (ipykernel)",
   "language": "python",
   "name": "python3"
  },
  "language_info": {
   "codemirror_mode": {
    "name": "ipython",
    "version": 3
   },
   "file_extension": ".py",
   "mimetype": "text/x-python",
   "name": "python",
   "nbconvert_exporter": "python",
   "pygments_lexer": "ipython3",
   "version": "3.9.12"
  }
 },
 "nbformat": 4,
 "nbformat_minor": 2
}
