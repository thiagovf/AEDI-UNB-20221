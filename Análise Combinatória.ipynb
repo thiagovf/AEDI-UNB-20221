{
 "cells": [
  {
   "cell_type": "markdown",
   "metadata": {},
   "source": [
    "# Análise Combinatória"
   ]
  },
  {
   "cell_type": "markdown",
   "metadata": {},
   "source": [
    "## Importando biblioteca math"
   ]
  },
  {
   "cell_type": "markdown",
   "metadata": {},
   "source": [
    "A biblioteca *math* só passou a possuir o método *comb* a partir do **Python 3.8**. Portanto, para funcionar, é preciso que o código esteja sendo executado nessa versão. Do contrário, irá ocorrer o erro **AttributeError: 'module' object has no attribute 'comb'**."
   ]
  },
  {
   "cell_type": "code",
   "execution_count": 1,
   "metadata": {},
   "outputs": [],
   "source": [
    "import math as mt"
   ]
  },
  {
   "cell_type": "code",
   "execution_count": 2,
   "metadata": {
    "scrolled": true
   },
   "outputs": [
    {
     "name": "stdout",
     "output_type": "stream",
     "text": [
      "Espaço Amostral = 55\n"
     ]
    }
   ],
   "source": [
    "# elaborando os dados iniciais\n",
    "\n",
    "n = 11\n",
    "r = 2\n",
    "\n",
    "# encontrando o espaço amostral\n",
    "EA = mt.comb(n, r)\n",
    "print(\"Espaço Amostral =\", EA)"
   ]
  },
  {
   "cell_type": "markdown",
   "metadata": {},
   "source": [
    "No caso acima, Espaço Amostral é a combinação de 2 em 2 dos 11 elementos que compõem o universo."
   ]
  },
  {
   "cell_type": "code",
   "execution_count": 17,
   "metadata": {},
   "outputs": [
    {
     "name": "stdout",
     "output_type": "stream",
     "text": [
      "1 (1,2)\n",
      "2 (1,3)\n",
      "3 (1,4)\n",
      "4 (1,5)\n",
      "5 (1,6)\n",
      "6 (1,7)\n",
      "7 (1,8)\n",
      "8 (1,9)\n",
      "9 (1,10)\n",
      "10 (1,11)\n",
      "11 (2,1)\n",
      "12 (2,3)\n",
      "13 (2,4)\n",
      "14 (2,5)\n",
      "15 (2,6)\n",
      "16 (2,7)\n",
      "17 (2,8)\n",
      "18 (2,9)\n",
      "19 (2,10)\n",
      "20 (2,11)\n",
      "21 (3,1)\n",
      "22 (3,2)\n",
      "23 (3,4)\n",
      "24 (3,5)\n",
      "25 (3,6)\n",
      "26 (3,7)\n",
      "27 (3,8)\n",
      "28 (3,9)\n",
      "29 (3,10)\n",
      "30 (3,11)\n",
      "31 (4,1)\n",
      "32 (4,2)\n",
      "33 (4,3)\n",
      "34 (4,5)\n",
      "35 (4,6)\n",
      "36 (4,7)\n",
      "37 (4,8)\n",
      "38 (4,9)\n",
      "39 (4,10)\n",
      "40 (4,11)\n",
      "41 (5,1)\n",
      "42 (5,2)\n",
      "43 (5,3)\n",
      "44 (5,4)\n",
      "45 (5,6)\n",
      "46 (5,7)\n",
      "47 (5,8)\n",
      "48 (5,9)\n",
      "49 (5,10)\n",
      "50 (5,11)\n",
      "51 (6,1)\n",
      "52 (6,2)\n",
      "53 (6,3)\n",
      "54 (6,4)\n",
      "55 (6,5)\n",
      "56 (6,7)\n",
      "57 (6,8)\n",
      "58 (6,9)\n",
      "59 (6,10)\n",
      "60 (6,11)\n",
      "61 (7,1)\n",
      "62 (7,2)\n",
      "63 (7,3)\n",
      "64 (7,4)\n",
      "65 (7,5)\n",
      "66 (7,6)\n",
      "67 (7,8)\n",
      "68 (7,9)\n",
      "69 (7,10)\n",
      "70 (7,11)\n",
      "71 (8,1)\n",
      "72 (8,2)\n",
      "73 (8,3)\n",
      "74 (8,4)\n",
      "75 (8,5)\n",
      "76 (8,6)\n",
      "77 (8,7)\n",
      "78 (8,9)\n",
      "79 (8,10)\n",
      "80 (8,11)\n",
      "81 (9,1)\n",
      "82 (9,2)\n",
      "83 (9,3)\n",
      "84 (9,4)\n",
      "85 (9,5)\n",
      "86 (9,6)\n",
      "87 (9,7)\n",
      "88 (9,8)\n",
      "89 (9,10)\n",
      "90 (9,11)\n",
      "91 (10,1)\n",
      "92 (10,2)\n",
      "93 (10,3)\n",
      "94 (10,4)\n",
      "95 (10,5)\n",
      "96 (10,6)\n",
      "97 (10,7)\n",
      "98 (10,8)\n",
      "99 (10,9)\n",
      "100 (10,11)\n",
      "101 (11,1)\n",
      "102 (11,2)\n",
      "103 (11,3)\n",
      "104 (11,4)\n",
      "105 (11,5)\n",
      "106 (11,6)\n",
      "107 (11,7)\n",
      "108 (11,8)\n",
      "109 (11,9)\n",
      "110 (11,10)\n"
     ]
    }
   ],
   "source": [
    "contador = 0;\n",
    "for x in range(1, 12): \n",
    "    for y in range(1, 12): \n",
    "        if (x != y) :\n",
    "            contador = contador + 1;\n",
    "            print (contador, \"(\" + str(x) + \",\" + str(y) + \")\")"
   ]
  },
  {
   "cell_type": "code",
   "execution_count": null,
   "metadata": {},
   "outputs": [],
   "source": []
  }
 ],
 "metadata": {
  "kernelspec": {
   "display_name": "Python 3 (ipykernel)",
   "language": "python",
   "name": "python3"
  },
  "language_info": {
   "codemirror_mode": {
    "name": "ipython",
    "version": 3
   },
   "file_extension": ".py",
   "mimetype": "text/x-python",
   "name": "python",
   "nbconvert_exporter": "python",
   "pygments_lexer": "ipython3",
   "version": "3.9.12"
  }
 },
 "nbformat": 4,
 "nbformat_minor": 2
}
