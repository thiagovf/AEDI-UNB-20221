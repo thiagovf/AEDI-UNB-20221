{
 "cells": [
  {
   "cell_type": "markdown",
   "id": "80360f21",
   "metadata": {},
   "source": [
    "# Distribuição Binomial e Combinação"
   ]
  },
  {
   "cell_type": "markdown",
   "id": "ba8fbef4",
   "metadata": {},
   "source": [
    "## Problemática\n",
    "Na vida um sujeito pode ter muita sorte ao ganhar na mega sena. Existem também aqueles que gostariam de passar em um concurso sem estudar. Pensando nisso, vamos comparar a probabilidade de passar em um concurso totalmente na sorte vs a probabilidade de ganhar o prêmio da mega sena com apenas um bilhete.\n",
    "\n",
    "### Prova do concurso\n",
    "A prova é composta de 60 questões, itens *abcd*, só um deles é o correto e todas questões têm o mesmo valor. Além disso, é necessário acertar pelo menos metade da prova para não ser eliminado de imediato. Assumindo que a prova vale 50 pontos e a nota de corte seja 30, obteremos a probabilidade deste candidato acertar 45 questões.\n",
    "\n",
    "### Mega sena\n",
    "Em um volante de loteria da Mega Sena temos um total de 60 números para escolher onde a aposta mínima é de seis números.\n"
   ]
  },
  {
   "cell_type": "markdown",
   "id": "660eb9c7",
   "metadata": {},
   "source": [
    "## Combinação\n",
    "### Relembrando:\n",
    "Número de combinações de 𝑛 objetos, tomados 𝑘 a cada vez, é:\n",
    "\n",
    "# $$C_{k}^{n} = \\binom{n}{k} = \\frac{n!}{k!(n - k)!}$$\n",
    "\n",
    "No exemplo da mega sena, temos 60 números pra escolher no mínimo 6.\n",
    "\n",
    "### $$C_{6}^{60} = \\binom{60}{6} = \\frac{60!}{6!(60 - 6)!}$$"
   ]
  },
  {
   "cell_type": "code",
   "execution_count": 3,
   "id": "dc1ee283",
   "metadata": {},
   "outputs": [],
   "source": [
    "from scipy.special import comb"
   ]
  },
  {
   "cell_type": "code",
   "execution_count": 4,
   "id": "ca5ad5eb",
   "metadata": {},
   "outputs": [
    {
     "data": {
      "text/plain": [
       "50063860.0"
      ]
     },
     "execution_count": 4,
     "metadata": {},
     "output_type": "execute_result"
    }
   ],
   "source": [
    "combinacoes = comb(60,6);\n",
    "combinacoes"
   ]
  },
  {
   "cell_type": "code",
   "execution_count": 20,
   "id": "a8664ae2",
   "metadata": {},
   "outputs": [
    {
     "name": "stdout",
     "output_type": "stream",
     "text": [
      "Probabilidade de acertar na mega sena com seis número: 0.000000019974489\n"
     ]
    }
   ],
   "source": [
    "probabilidade = 1 / combinacoes;\n",
    "print('Probabilidade de acertar na mega sena com seis número:', '%0.15f' % probabilidade)"
   ]
  },
  {
   "cell_type": "markdown",
   "id": "773a03e4",
   "metadata": {},
   "source": [
    "## Distribuição Binomial\n",
    "### Relembrando:\n",
    "\n",
    "Um evento binomial é caracterizado pela possibilidade de ocorrência de apenas duas categorias. Estas categorias somadas representam todo o espaço amostral, sendo também mutuamente excludentes.\n",
    "\n",
    "Em análises estatísticas o uso mais comum da distribuição binomial é na solução de problemas que envolvem situações de sucesso e fracasso.\n"
   ]
  },
  {
   "cell_type": "markdown",
   "id": "0d2e32a7",
   "metadata": {},
   "source": [
    "# $$P(k)=\\binom{n}{k} p^k q^{n-k}$$\n",
    "\n",
    "Onde:\n",
    "\n",
    "$p$ = probabilidade de sucesso\n",
    "\n",
    "$q = (1 - p)$ = probabilidade de fracasso\n",
    "\n",
    "$n$ = número de eventos estudados\n",
    "\n",
    "$k$ = número de eventos desejados que tenham sucesso"
   ]
  },
  {
   "cell_type": "markdown",
   "id": "3572ee62",
   "metadata": {},
   "source": [
    "#### Número de ensaios (𝑛):"
   ]
  },
  {
   "cell_type": "code",
   "execution_count": 9,
   "id": "80959a7b",
   "metadata": {},
   "outputs": [
    {
     "data": {
      "text/plain": [
       "60"
      ]
     },
     "execution_count": 9,
     "metadata": {},
     "output_type": "execute_result"
    }
   ],
   "source": [
    "n = 60\n",
    "n"
   ]
  },
  {
   "cell_type": "markdown",
   "id": "f930a6e2",
   "metadata": {},
   "source": [
    "#### Probabilidade de sucesso (𝑝), em cada questão:"
   ]
  },
  {
   "cell_type": "code",
   "execution_count": 10,
   "id": "b7559e33",
   "metadata": {},
   "outputs": [
    {
     "data": {
      "text/plain": [
       "0.25"
      ]
     },
     "execution_count": 10,
     "metadata": {},
     "output_type": "execute_result"
    }
   ],
   "source": [
    "numero_de_alternativas_por_questao = 4\n",
    "p = 1 / numero_de_alternativas_por_questao\n",
    "p"
   ]
  },
  {
   "cell_type": "markdown",
   "id": "7e21cea6",
   "metadata": {},
   "source": [
    "#### Probabilidade de fracasso (𝑞), em cada questão:"
   ]
  },
  {
   "cell_type": "code",
   "execution_count": 11,
   "id": "57f6a111",
   "metadata": {},
   "outputs": [
    {
     "data": {
      "text/plain": [
       "0.75"
      ]
     },
     "execution_count": 11,
     "metadata": {},
     "output_type": "execute_result"
    }
   ],
   "source": [
    "q = 1 - p\n",
    "q"
   ]
  },
  {
   "cell_type": "markdown",
   "id": "2a3db494",
   "metadata": {},
   "source": [
    "#### Número total de eventos que se deseja obter sucesso (k): "
   ]
  },
  {
   "cell_type": "code",
   "execution_count": 15,
   "id": "fe14361c",
   "metadata": {},
   "outputs": [
    {
     "data": {
      "text/plain": [
       "30"
      ]
     },
     "execution_count": 15,
     "metadata": {},
     "output_type": "execute_result"
    }
   ],
   "source": [
    "k = 30\n",
    "k"
   ]
  },
  {
   "cell_type": "markdown",
   "id": "206bce8f",
   "metadata": {},
   "source": [
    "#### Probabilidade do candidato sortudo acertar 30 questões (nota de corte):"
   ]
  },
  {
   "cell_type": "code",
   "execution_count": 16,
   "id": "e8f09302",
   "metadata": {},
   "outputs": [
    {
     "name": "stdout",
     "output_type": "stream",
     "text": [
      "0.000018318624542 %\n"
     ]
    }
   ],
   "source": [
    "probabilidade = (comb(n,k) * (p ** k) * (q ** (n - k)))\n",
    "print('%0.15f' % probabilidade,'%')"
   ]
  },
  {
   "cell_type": "markdown",
   "id": "d72141e2",
   "metadata": {},
   "source": [
    "#### Probabilidade do candidato ficar com uma nota mais competitiva que consideramos acertar 75% da prova e aproveitando para fazer o cálculo com um método de Python:"
   ]
  },
  {
   "cell_type": "code",
   "execution_count": 19,
   "id": "b5fb0ab4",
   "metadata": {},
   "outputs": [
    {
     "name": "stdout",
     "output_type": "stream",
     "text": [
      "0.000000000000001 %\n"
     ]
    }
   ],
   "source": [
    "from scipy.stats import binom\n",
    "k = 45\n",
    "probabilidade = binom.pmf(k, n, p)\n",
    "print('%0.15f' % probabilidade,'%')"
   ]
  },
  {
   "cell_type": "markdown",
   "id": "b6a8800c",
   "metadata": {},
   "source": [
    "## Conclusão\n",
    "\n",
    "A chance de um indivíduo acertar na mega sena é de 1 em 50.063.860. Enquanto a chance de termos um candidato aprovado que não estudou nada é de 0.000000000000001 ou 1 em 100.000.000.000.000. Dessa forma, se for pra não estudar, é melhor jogar na mega sena."
   ]
  }
 ],
 "metadata": {
  "kernelspec": {
   "display_name": "Python 3 (ipykernel)",
   "language": "python",
   "name": "python3"
  },
  "language_info": {
   "codemirror_mode": {
    "name": "ipython",
    "version": 3
   },
   "file_extension": ".py",
   "mimetype": "text/x-python",
   "name": "python",
   "nbconvert_exporter": "python",
   "pygments_lexer": "ipython3",
   "version": "3.9.12"
  }
 },
 "nbformat": 4,
 "nbformat_minor": 5
}
